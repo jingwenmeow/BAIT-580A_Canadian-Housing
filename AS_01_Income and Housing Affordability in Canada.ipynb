{
 "cells": [
  {
   "cell_type": "markdown",
   "metadata": {},
   "source": [
    "# Income and Housing Affordability in Canada\n",
    "\n"
   ]
  },
  {
   "cell_type": "markdown",
   "metadata": {},
   "source": [
    "## Author(s)\n",
    "\n",
    "- Author1 = {\"name\": \"Anant Sinha\", \"affiliation\": \"UBC MBAN students\", \"email\": \"anantsinha@gmail.com\"}  \n",
    "- Author2 = {\"name\": \"Mataikya Singh\", \"affiliation\": \"UBC MBAN studentsr\", \"email\": \"mataikya.singh@gmail.com\"}\n",
    "- Author3 = {\"name\": \"Thomas Riva\", \"affiliation\": \"UBC MBAN students\", \"email\": \"thomas.a.riva@gmail.com\"} \n",
    "- Author4 = {\"name\": \"Tong Wu\", \"affiliation\": \"UBC MBAN students\", \"email\": \"wtong7678@gmail.com\"}\n",
    "- Author5 = {\"name\": \"Wenjing Miao\", \"affiliation\": \"UBC MBAN students\", \"email\": \"jmiao06@student.ubc.ca\"}\n",
    "\n"
   ]
  },
  {
   "cell_type": "markdown",
   "metadata": {
    "toc": true
   },
   "source": [
    "<h1>Table of Contents<span class=\"tocSkip\"></span></h1>\n",
    "<div class=\"toc\"><ul class=\"toc-item\"><li><span><a href=\"#Template-Notebook-for-EarthCube---Long-Version\" data-toc-modified-id=\"Template-Notebook-for-EarthCube---Long-Version-1\"><span class=\"toc-item-num\">1&nbsp;&nbsp;</span>Template Notebook for EarthCube - Long Version</a></span><ul class=\"toc-item\"><li><span><a href=\"#Author(s)\" data-toc-modified-id=\"Author(s)-1.1\"><span class=\"toc-item-num\">1.1&nbsp;&nbsp;</span>Author(s)</a></span></li><li><span><a href=\"#Colaboration\" data-toc-modified-id=\"Colaboration-1.2\"><span class=\"toc-item-num\">1.2&nbsp;&nbsp;</span>Collaboration</a></span></li><li><span><a href=\"#Methodology\" data-toc-modified-id=\"Methodology-1.3\"><span class=\"toc-item-num\">1.3&nbsp;&nbsp;</span>Purpose</a></span></li><li><span><a href=\"#Results\" data-toc-modified-id=\"Results-1.4\"><span class=\"toc-item-num\">1.4&nbsp;&nbsp;</span>Methodology</a></span></li><li><span><a href=\"#Keywords\" data-toc-modified-id=\"Keywords-1.6\"><span class=\"toc-item-num\">1.6&nbsp;&nbsp;</span>Data Dictionary</a></span></li><li><span><a href=\"#Citation\" data-toc-modified-id=\"Citation-1.7\"><span class=\"toc-item-num\">1.7&nbsp;&nbsp;</span>Results</a></span></li><li><span><a href=\"#Work-In-Progress---improvements\" data-toc-modified-id=\"Work-In-Progress---improvements-1.8\"><span class=\"toc-item-num\">1.8&nbsp;&nbsp;</span>Keywords</a></span></li><li><span><a href=\"#Suggested-next-steps\" data-toc-modified-id=\"Suggested-next-steps-1.9\"><span class=\"toc-item-num\">1.9&nbsp;&nbsp;</span>Work In Progress - Improvements</a></span></li><li><span><a href=\"#Acknowledgements\" data-toc-modified-id=\"Acknowledgements-1.10\"><span class=\"toc-item-num\"><span><a href=\"#Setup\" data-toc-modified-id=\"Setup-2\"><span class=\"toc-item-num\">2&nbsp;&nbsp;</span>Suggested Next Steps</a></span></li><li><span><a href=\"#Acknowledgements\" data-toc-modified-id=\"Acknowledgements-1.11\"><span class=\"toc-item-num\"><span><a href=\"#Setup\" data-toc-modified-id=\"Setup-1.12\"><span class=\"toc-item-num\">2&nbsp;&nbsp;</span>Setup</a></span><ul class=\"toc-item\"><li><span><a href=\"#Library-import\" data-toc-modified-id=\"Library-import-2.1\"><span class=\"toc-item-num\">2.1&nbsp;&nbsp;</span>Library import</a></span></li><li><span><a href=\"#Local-library-import\" data-toc-modified-id=\"Local-library-import-2.2\"><span class=\"toc-item-num\">2.2&nbsp;&nbsp;</span>Local library import</a></span></li></ul></li><li><span><a href=\"#Parameter-definitions\" data-toc-modified-id=\"Parameter-definitions-3\"><span class=\"toc-item-num\">3&nbsp;&nbsp;</span>Parameter definitions</a></span></li><li><span><a href=\"#Data-import\" data-toc-modified-id=\"Data-import-4\"><span class=\"toc-item-num\">4&nbsp;&nbsp;</span>Data import</a></span></li><li><span><a href=\"#Data-processing-and-analysis\" data-toc-modified-id=\"Data-processing-and-analysis-5\"><span class=\"toc-item-num\">5&nbsp;&nbsp;</span>Data processing and analysis</a></span><ul class=\"toc-item\"><li><span><a href=\"#The-10-rules\" data-toc-modified-id=\"The-10-rules-5.1\"><span class=\"toc-item-num\">5.1&nbsp;&nbsp;</span>The 10 rules</a></span></li><li><span><a href=\"#Using-notebook-template\" data-toc-modified-id=\"Using-notebook-template-5.2\"><span class=\"toc-item-num\">5.2&nbsp;&nbsp;</span>Using notebook template</a></span></li><li><span><a href=\"#Adding-table-of-contents\" data-toc-modified-id=\"Adding-table-of-contents-5.3\"><span class=\"toc-item-num\">5.3&nbsp;&nbsp;</span>Adding table of contents</a></span></li><li><span><a href=\"#Creating-Docker-and-Binder-for-your-notebook-repository\" data-toc-modified-id=\"Creating-Docker-and-Binder-for-your-notebook-repository-5.4\"><span class=\"toc-item-num\">5.4&nbsp;&nbsp;</span>Creating Docker and Binder for your notebook repository</a></span></li></ul></li><li><span><a href=\"#References\" data-toc-modified-id=\"References-6\"><span class=\"toc-item-num\">6&nbsp;&nbsp;</span>References</a></span></li></ul></div>"
   ]
  },
  {
   "cell_type": "markdown",
   "metadata": {},
   "source": [
    "## Collaboration\n",
    "At the beginning of this project, we created a what's app group chat as the main communication medium. Sometimes we also held zoom meetings to discuss about the course materials and work together on our group project. Before the submission, the frequency of meetins was high (1-2 times a day). All group members were very engaged without absents. We all function as group leaders and group members. For assignment2, we divide up our tasks:\n",
    "- Create and modify Jupyter notebook template. Enrich contents for each section and write reports. (Tong & Anant)\n",
    "- Data searching, filtering and cleaning. (Thomas)\n",
    "- Create data dictionary. (Jingwen)\n",
    "- Create normalized tables. (Mataikya)\n",
    "\n",
    "## Purpose\n",
    "Housing affordability and costs have been a major trend in Canada over the past several years.\n",
    "We want to examine house prices in Canada and explore household incomes on housing investment.\n",
    "By analyzing those datasets we want to furture explore housing affordability in Canada.\n",
    "\n",
    "\n",
    "\n",
    "## Methodology\n",
    "To do this work we obtained two datasets, one, Housing Prices dataset(New housing price index, monthly), is from Statistics Canada (WAN dataset: https://www150.statcan.gc.ca/t1/tbl1/en/tv.action?pid=1810020501#tables). \n",
    "It contains price index across Canada by province. The second dataset is Income Statistics(Income statistics by economic family type and income source), also from Statistics Canada (https://www150.statcan.gc.ca/t1/tbl1/en/tv.action?pid=1110019101#tables). \n",
    "These datasets both share an attribute, REF_DATE, that can be aggregated by year from Housing Prices dataset, and can be obtained from the first column of Income statistics dataset. Both datasets can be combined to evaluation how people's income affects the housing prices across Canada, and further analyze housing affordability in Canada.\n",
    "\n",
    "\n",
    "| Item  | Dataset 1  | Dataset 2   |\n",
    "|---|---|---|\n",
    "| Title  | Income statistics by economic family type and income source  | New housing price index, monthly  |\n",
    "| URI  | https://www150.statcan.gc.ca/n1/tbl/csv/11100191-eng.zip  | https://www150.statcan.gc.ca/n1/tbl/csv/18100205-eng.zip  |\n",
    "| Keywords  | Income, Family Type, Income Source, Canada  | Housing Price Indexes, Canada, Construction  |\n",
    "| Publication Date  | 2021-03-23  | 2022-01-21  |\n",
    "| Publisher  | Statistics Canada  | Statistics Canada  |\n",
    "| Creator  | Statistics Canada  | Statistics Canada  |\n",
    "| Contact Point  | infostats@statcan.gc.ca  | infostats@statcan.gc.ca  |\n",
    "| Spatial Coverage  | Canada, Geographical region of Canada, Province or territory, Census metropolitan area  | Canada, Geographical region of Canada, Province or territory, Census metropolitan area  |\n",
    "| Temporal Coverage  | 1976-2021 Yearly  | January 1981 - December 2021 Monthly  |\n",
    "| Language  | English  | English  |\n",
    "| Date & Time Formats  | Year  | MMM - YY  |\n",
    "| Data Version  | 11-10-0191-01  |  18-10-0205-01  |\n",
    "| Access Date  | 2022-01-21  | 2022-01-21  |\n",
    "\n",
    "\n",
    "\n",
    "\n",
    "## Data Dictionary\n",
    "\n",
    "| Source            | Source Variable name | Variable Name                             | Variable Type | Meaning and Purpose                                                                                                                                     | Use                                                                                                                    | Holds Sensitive Data | Sample value                                                    |\n",
    "|-------------------|----------------------|-------------------------------------------|---------------|---------------------------------------------------------------------------------------------------------------------------------------------------------|------------------------------------------------------------------------------------------------------------------------|----------------------|-----------------------------------------------------------------|\n",
    "| Statistics Canada | REF_DATE             | Year                                      | Integer       | Reference year for the series being released.                                                                                                           | Reference year for the series being released.                                                                          | No                   | 1990, 2000, 2020                                                |\n",
    "| Statistics Canada | GEO                  | Geography                                 | Varchar       | Name of dimension. There can be up to 10 dimensions in a data table.                                                                                    | Name of dimension of geography.                                                                                        | No                   | Alberta, British Columbia                                       |\n",
    "| Statistics Canada | DGUID                | Dissemination_geography_unique_identifier | Varchar       | It is an alphanumeric code, composed of four components. It varies from 10 to 20 characters in length.                                                  | It is an alphanumeric code, composed of four components.                                                               | No                   | 2016A000259                                                     |\n",
    "| Statistics Canada | Housing estimates    | Housing_estimates                         | Varchar       | The estimation of housing status.                                                                                                                       | For information only                                                                                                   | No                   | housing starts, housing completions, housing under construction |\n",
    "| Statistics Canada | Type of unit         | Type_of_unit                              | Varchar       | The unit type of the housing entities.                                                                                                                  | For information only                                                                                                   | No                   | Single-detached, semi-detached, multiples, total units          |\n",
    "| Statistics Canada | Seasonal adjustment  | Seasonal_adjustment                       | Varchar       | Showing whether the data was adjusted by seasonality at annual rate                                                                                     | Indicates whether the data being adjusted by seasonality                                                               | No                   | unadjusted                                                      |\n",
    "| Statistics Canada | UOM                  | Unit_of_measure                           | Varchar       | The unit of measure applied to a member given in text. There can be multiple units of measure in a table.                                               | The unit of measure applied to a member given in text. There can be multiple units of measure in a table.              | No                   | units                                                           |\n",
    "| Statistics Canada | UMO_ID               | Unit_of_measure_id                        | Integer       | The unique reference code associated with a particular unit of measure.                                                                                 | The unique reference code associated with a particular unit of measure.                                                | No                   |                                                             300 |\n",
    "| Statistics Canada | SCALAR_FACTOR        | Scalar_factor                             | Varchar       | The scalar factor associated with a data series, displayed as text. There can be multiple scalar factors in a table.                                    | The scalar factor associated with a data series, displayed as text. There can be multiple scalar factors in a table.   | No                   | units                                                           |\n",
    "| Statistics Canada | SCALAR_ID            | Scalar_id                                 | Integer       | The unique numeric reference code associated with a particular scalar factor.                                                                           | The unique numeric reference code associated with a particular scalar factor.                                          | No                   |                                                               0 |\n",
    "| Statistics Canada | VECTOR               | Vector                                    | Varchar       | Unique variable length reference code time-series identifier.                                                                                           | Unique variable length reference code time-series identifier.                                                          | No                   | v730416                                                         |\n",
    "| Statistics Canada | COORDINATE           | Coordinate                                | Varchar       | Concatenation of the member ID values for each dimension.  One value per dimension.                                                                     | Concatenation of the member ID values for each dimension. One value per dimension.                                     | No                   | 1.1.1.1, 5.3.1.1                                                |\n",
    "| Statistics Canada | VALUE                | Value                                     | Integer       | Data point value.                                                                                                                                       | Data point value.                                                                                                      | No                   | 6678, 37529                                                     |\n",
    "| Statistics Canada | TERMINATED           | Terminated                                | Varchar       | Describes a data value that has been terminated (no longer updated) by Statistics Canada.  Termination of a data point is displayed using the symbol t. | Describes a data value that has been terminated (no longer updated) by Statistics Canada.                              | No                   | t                                                               |\n",
    "| Statistics Canada | DECIMALS             | Decimals                                  | Integer       | Displays the decimal precision for a given value.                                                                                                       | Displays the decimal precision for a given value.                                                                      | No                   |                                                               0 |\n",
    "\n",
    "## Results\n",
    "Normalization of the database resulted in a set of 8 tables, including tables for \n",
    "\n",
    "-Economic Family Type,Income Source, Income_Type, Scalar,Income (These 5 are generated from dataset - ‘Canada_median_income’).\n",
    "\n",
    "-New Housing Price Index, Canada Housing Price Index (These 2 are generated from from dataset - ‘Canada_house_price_index’).\n",
    "\n",
    "-Geography (This is generated from both datasets)\n",
    "\n",
    "In this way, Canada Housing Prices data table and Canada Median Income data table are connected by Gerography table, and they are joined by \"dguid\".\n",
    "\n",
    "\n",
    "\n",
    "## Keywords\n",
    "\n",
    "keywords=[\"income\", \"housing prices\", \"real estate industry\", \"housing affordability\", \"Price index\"]\n",
    "\n",
    "\n",
    "## Work In Progress - improvements\n",
    "We are working now to create tables and queries to find out how each table relates to one another. Then we can play around with \n",
    "income, housing price and other factors to see their correlations and further explore housing affordability in Canada.\n",
    "\n",
    "## Suggested next steps\n",
    "We can perform further analysis after figuring out the relationships and do data visualization. \n",
    "\n"
   ]
  },
  {
   "cell_type": "markdown",
   "metadata": {},
   "source": [
    "# Setup\n",
    "\n",
    "## Library import\n",
    "Import all the required Python libraries.\n",
    "\n",
    "The code cell below is an example.\n",
    "When submitting your notebook, make sure that all external libraries are included in the requirements or environment file and library versions are explictly defined.\n",
    "\n",
    "It is a good practice to organize the imported libraries by functionality, as shown below."
   ]
  },
  {
   "cell_type": "code",
   "execution_count": 10,
   "metadata": {},
   "outputs": [
    {
     "data": {
      "text/html": [
       "        <script type=\"text/javascript\">\n",
       "        window.PlotlyConfig = {MathJaxConfig: 'local'};\n",
       "        if (window.MathJax) {MathJax.Hub.Config({SVG: {font: \"STIX-Web\"}});}\n",
       "        if (typeof require !== 'undefined') {\n",
       "        require.undef(\"plotly\");\n",
       "        requirejs.config({\n",
       "            paths: {\n",
       "                'plotly': ['https://cdn.plot.ly/plotly-latest.min']\n",
       "            }\n",
       "        });\n",
       "        require(['plotly'], function(Plotly) {\n",
       "            window._Plotly = Plotly;\n",
       "        });\n",
       "        }\n",
       "        </script>\n",
       "        "
      ]
     },
     "metadata": {},
     "output_type": "display_data"
    }
   ],
   "source": [
    "# Data manipulation\n",
    "import pandas as pd\n",
    "import numpy as np\n",
    "\n",
    "# Options for pandas\n",
    "pd.options.display.max_columns = 50\n",
    "pd.options.display.max_rows = 30\n",
    "\n",
    "# Visualizations\n",
    "import plotly\n",
    "import plotly.graph_objs as go\n",
    "import plotly.offline as ply\n",
    "plotly.offline.init_notebook_mode(connected=True)\n",
    "\n",
    "# Autoreload extension\n",
    "if 'autoreload' not in get_ipython().extension_manager.loaded:\n",
    "    %load_ext autoreload\n",
    "    \n",
    "%autoreload 2"
   ]
  },
  {
   "cell_type": "markdown",
   "metadata": {},
   "source": [
    "## Local library import\n",
    "Import all the required local libraries.\n",
    "\n",
    "You can use the sample code below to reference location of these libraries.\n",
    "When packaging the notebook for submission to EarthCube, please include the libraries in a sub-directory. The local libraries should be well documented to ease reviewing."
   ]
  },
  {
   "cell_type": "code",
   "execution_count": 11,
   "metadata": {},
   "outputs": [],
   "source": [
    "# Include local library paths\n",
    "import sys\n",
    "# sys.path.append('path/to/local/lib') # uncomment and fill to import local libraries\n",
    "\n",
    "# Import local libraries"
   ]
  },
  {
   "cell_type": "markdown",
   "metadata": {},
   "source": [
    "# Parameter definitions\n",
    "Set all relevant parameters for the notebook. By convention, parameters are uppercase, while all the other variables follow Python's guidelines."
   ]
  },
  {
   "cell_type": "markdown",
   "metadata": {},
   "source": [
    "\n",
    "# Data import\n",
    "\n",
    "The housing price data is based on Canada’s “New housing price index, monthly” which measures changes in selling prices of new residential homes. Residential homes include single-homes, semi-detached homes and townhomes, and so this dataset does not capture all types of housing available to Canadians. This data has been collected since 1981 for most regions, but there are some missing values depending on the location. This dataset will provide objective measure to see how the cost of single family homes has been changing over time in different areas of Canada.\n",
    "\n",
    "To relate house prices to income, another dataset from Statistics Canada was selected . The “Income statistics by economic family type and income source” dataset will provide granular data on earnings by different family groups and income types. One of the limitations of this dataset is that the data was only collected on a yearly basis which is a longer time interval compared to the housing data which is on a monthly basis. The data in the housing data set could be aggregated in order to relate the two datasets. When relating this dataset to the cost of new housing we will be able to show the changes in income relative to the costs of housing for different family groups.\n"
   ]
  },
  {
   "cell_type": "markdown",
   "metadata": {},
   "source": [
    "# Data processing and analysis\n",
    "The core of the notebook is here. Split this section into subsections as required, and explain processing and analysis steps.\n",
    "\n",
    "Selected best practices for organizing and formatting your notebooks are included below. "
   ]
  },
  {
   "cell_type": "markdown",
   "metadata": {},
   "source": [
    "## Using notebook template\n",
    "\n",
    "You can automatically load this notebook template, with sections and headings preset for you. \n",
    "\n",
    "The key steps are:\n",
    "1. In terminal, install jupytemplate by running:\n",
    "```\n",
    "pip install jupytemplate\n",
    "```\n",
    "\n",
    "2. Then, enable the extension in your local Jupyter instance:\n",
    "```\n",
    "jupyter nbextension install --py jupytemplate --sys-prefix\n",
    "jupyter nbextension enable jupytemplate/main --sys-prefix\n",
    "```\n",
    "\n",
    "You will see a \"Nbextensions\" tab in Jupyter's tree view. In it, you can enable/disable the Template extension. If enabled, a new notebook will start from a preset template.\n",
    "\n",
    "\n",
    "See [5] for more information.\n"
   ]
  },
  {
   "cell_type": "code",
   "execution_count": 12,
   "metadata": {},
   "outputs": [
    {
     "name": "stdout",
     "output_type": "stream",
     "text": [
      "C:\\Users\\izaslavsky\\Anaconda3\\envs\\suave_prep\\lib\\site-packages\\jupytemplate\\jupytemplate\\template.ipynb\n"
     ]
    }
   ],
   "source": [
    "# To install this custom EarthCube template, run the following to find the template location\n",
    "\n",
    "import jupytemplate\n",
    "print(jupytemplate.get_template_path())\n",
    "\n"
   ]
  },
  {
   "cell_type": "markdown",
   "metadata": {},
   "source": [
    "Then replace the default template.ipynb with this notebook or with the short version (just headings and brief explanations).\n",
    "\n",
    "Both the long and the short versions can be found at earthcube github.\n",
    "\n",
    "\n",
    "To make the changes effective after replacing the template and renaming it to template.ipynb, run in terminal:\n",
    "```\n",
    "jupyter nbextension install --py jupytemplate --sys-prefix\n",
    "jupyter nbextension enable jupytemplate/main --sys-prefix\n",
    "```"
   ]
  },
  {
   "cell_type": "markdown",
   "metadata": {},
   "source": [
    "## Adding table of contents\n",
    "\n",
    "Having a table of contents below the title and authors will make your notebook look more professional, and will help users navigate it.\n",
    "\n",
    "The key steps are:\n",
    "1. In terminal, install jupyter_contrib_nbextensions\n",
    "```\n",
    "pip install --user jupyter_contrib_nbextensions\n",
    "jupyter contrib nbextension install --user\n",
    "```\n",
    "\n",
    "2. Then, enable the Table of Contents extension:\n",
    "```\n",
    "jupyter nbextension enable toc2/main\n",
    "```\n",
    "\n",
    "You will see a new icon \"Table of Contents\" added to the row of icons. It will toggle the ToC view. Click the Gear icon on the ToC panel to add a ToC cell to your notebook.\n",
    "\n",
    "See [5.1], [5.2] for more information\n"
   ]
  },
  {
   "cell_type": "markdown",
   "metadata": {},
   "source": [
    "## Creating Docker and Binder for your notebook repository\n",
    "\n",
    "Sharing just the Jupyter notebook .ipynb file is not sufficient for broad re-usability. We request that Jupyter notebooks are submitted to EarthCube in Binders. The Binder service is a free service that allows anyone to run notebooks from their web browser without installing any software and resolving dependencies. \n",
    "\n",
    "Follow these steps:\n",
    "1. Assemble the Jupyter notebooks , environment files, custom external libraries, datasets, and a README, in a single project directory (and sub-directories off of it, as needed). Use GitHub to organize your project as a GitHub repository.\n",
    "\n",
    "2. Optionally, test your project with repo2docker. See instructions in [2]. This will create a docker image which can be made available in a Docker repository. \n",
    "\n",
    "3. Create Binder. Use mybinder.org to create a URL for your notebook Binder (you will need to enter your GitHub repo URL). You can also add a Launch Binder button directly to your GitHub repo, by include the following in your README.md:\n",
    "```\n",
    "launch with myBinder\n",
    "[![Binder](https://mybinder.org/badge.svg)](https://mybinder.org/v2/gh/<path to your repo>)\n",
    "```\n",
    "\n",
    "Specific projects may have their own Binder implementations. In this case, include a project-specific Binder reference so that reviewers can execure your code.\n",
    "\n",
    "Expect the reviewers to use a browser of their choice to run your code, and avoid execution environments that have any special requirements that reviewers may not have (for example, Google colab requires a Google account, which reviewers may not have).\n"
   ]
  },
  {
   "cell_type": "markdown",
   "metadata": {},
   "source": [
    "# References\n",
    "https://www150.statcan.gc.ca/t1/tbl1/en/tv.action?pid=1810020501#tables\n",
    "\n",
    "\n",
    "https://www150.statcan.gc.ca/t1/tbl1/en/tv.action?pid=1110019101#tables"
   ]
  }
 ],
 "metadata": {
  "kernelspec": {
   "display_name": "Python 3 (ipykernel)",
   "language": "python",
   "name": "python3"
  },
  "language_info": {
   "codemirror_mode": {
    "name": "ipython",
    "version": 3
   },
   "file_extension": ".py",
   "mimetype": "text/x-python",
   "name": "python",
   "nbconvert_exporter": "python",
   "pygments_lexer": "ipython3",
   "version": "3.9.7"
  },
  "toc": {
   "base_numbering": 1,
   "nav_menu": {},
   "number_sections": true,
   "sideBar": true,
   "skip_h1_title": false,
   "title_cell": "Table of Contents",
   "title_sidebar": "Contents",
   "toc_cell": true,
   "toc_position": {
    "height": "calc(100% - 180px)",
    "left": "10px",
    "top": "150px",
    "width": "248.182px"
   },
   "toc_section_display": true,
   "toc_window_display": true
  }
 },
 "nbformat": 4,
 "nbformat_minor": 4
}

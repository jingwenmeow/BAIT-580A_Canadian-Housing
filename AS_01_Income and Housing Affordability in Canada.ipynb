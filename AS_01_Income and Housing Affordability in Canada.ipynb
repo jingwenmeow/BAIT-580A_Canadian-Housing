{
 "cells": [
  {
   "cell_type": "markdown",
   "metadata": {},
   "source": [
    "# Income and Housing Affordability in Canada\n",
    "\n"
   ]
  },
  {
   "cell_type": "markdown",
   "metadata": {},
   "source": [
    "## Author(s)\n",
    "\n",
    "- Author1 = {\"name\": \"Anant Sinha\", \"affiliation\": \"UBC MBAN students\", \"email\": \"anantsinha@gmail.com\"}  \n",
    "- Author2 = {\"name\": \"Mataikya Singh\", \"affiliation\": \"UBC MBAN studentsr\", \"email\": \"mataikya.singh@gmail.com\"}\n",
    "- Author3 = {\"name\": \"Thomas Riva\", \"affiliation\": \"UBC MBAN students\", \"email\": \"thomas.a.riva@gmail.com\"} \n",
    "- Author4 = {\"name\": \"Tong Wu\", \"affiliation\": \"UBC MBAN students\", \"email\": \"wtong7678@gmail.com\"}\n",
    "- Author5 = {\"name\": \"Wenjing Miao\", \"affiliation\": \"UBC MBAN students\", \"email\": \"jmiao06@student.ubc.ca\"}\n",
    "\n"
   ]
  },
  {
   "cell_type": "markdown",
   "metadata": {
    "toc": true
   },
   "source": [
    "<h1>Table of Contents<span class=\"tocSkip\"></span></h1>\n",
    "<div class=\"toc\"><ul class=\"toc-item\"><li><span><a href=\"#Template-Notebook-for-EarthCube---Long-Version\" data-toc-modified-id=\"Template-Notebook-for-EarthCube---Long-Version-1\"><span class=\"toc-item-num\">1&nbsp;&nbsp;</span>Template Notebook for EarthCube - Long Version</a></span><ul class=\"toc-item\"><li><span><a href=\"#Author(s)\" data-toc-modified-id=\"Author(s)-1.1\"><span class=\"toc-item-num\">1.1&nbsp;&nbsp;</span>Author(s)</a></span></li><li><span><a href=\"#Colaboration\" data-toc-modified-id=\"Colaboration-1.2\"><span class=\"toc-item-num\">1.2&nbsp;&nbsp;</span>Purpose</a></span></li><li><span><a href=\"#Methodology\" data-toc-modified-id=\"Methodology-1.3\"><span class=\"toc-item-num\">1.3&nbsp;&nbsp;</span>Methodology</a></span></li><li><span><a href=\"#Results\" data-toc-modified-id=\"Results-1.4\"><span class=\"toc-item-num\">1.4&nbsp;&nbsp;</span>Results</a></span></li><li><span><a href=\"#Keywords\" data-toc-modified-id=\"Keywords-1.6\"><span class=\"toc-item-num\">1.6&nbsp;&nbsp;</span>Keywords</a></span></li><li><span><a href=\"#Citation\" data-toc-modified-id=\"Citation-1.7\"><span class=\"toc-item-num\">1.7&nbsp;&nbsp;</span>Citation</a></span></li><li><span><a href=\"#Work-In-Progress---improvements\" data-toc-modified-id=\"Work-In-Progress---improvements-1.8\"><span class=\"toc-item-num\">1.8&nbsp;&nbsp;</span>Work In Progress - improvements</a></span></li><li><span><a href=\"#Suggested-next-steps\" data-toc-modified-id=\"Suggested-next-steps-1.9\"><span class=\"toc-item-num\">1.9&nbsp;&nbsp;</span>Suggested next steps</a></span></li><li><span><a href=\"#Acknowledgements\" data-toc-modified-id=\"Acknowledgements-1.10\"><span class=\"toc-item-num\"><span><a href=\"#Setup\" data-toc-modified-id=\"Setup-2\"><span class=\"toc-item-num\">2&nbsp;&nbsp;</span>Setup</a></span><ul class=\"toc-item\"><li><span><a href=\"#Library-import\" data-toc-modified-id=\"Library-import-2.1\"><span class=\"toc-item-num\">2.1&nbsp;&nbsp;</span>Library import</a></span></li><li><span><a href=\"#Local-library-import\" data-toc-modified-id=\"Local-library-import-2.2\"><span class=\"toc-item-num\">2.2&nbsp;&nbsp;</span>Local library import</a></span></li></ul></li><li><span><a href=\"#Parameter-definitions\" data-toc-modified-id=\"Parameter-definitions-3\"><span class=\"toc-item-num\">3&nbsp;&nbsp;</span>Parameter definitions</a></span></li><li><span><a href=\"#Data-import\" data-toc-modified-id=\"Data-import-4\"><span class=\"toc-item-num\">4&nbsp;&nbsp;</span>Data import</a></span></li><li><span><a href=\"#Data-processing-and-analysis\" data-toc-modified-id=\"Data-processing-and-analysis-5\"><span class=\"toc-item-num\">5&nbsp;&nbsp;</span>Data processing and analysis</a></span><ul class=\"toc-item\"><li><span><a href=\"#The-10-rules\" data-toc-modified-id=\"The-10-rules-5.1\"><span class=\"toc-item-num\">5.1&nbsp;&nbsp;</span>The 10 rules</a></span></li><li><span><a href=\"#Using-notebook-template\" data-toc-modified-id=\"Using-notebook-template-5.2\"><span class=\"toc-item-num\">5.2&nbsp;&nbsp;</span>Using notebook template</a></span></li><li><span><a href=\"#Adding-table-of-contents\" data-toc-modified-id=\"Adding-table-of-contents-5.3\"><span class=\"toc-item-num\">5.3&nbsp;&nbsp;</span>Adding table of contents</a></span></li><li><span><a href=\"#Creating-Docker-and-Binder-for-your-notebook-repository\" data-toc-modified-id=\"Creating-Docker-and-Binder-for-your-notebook-repository-5.4\"><span class=\"toc-item-num\">5.4&nbsp;&nbsp;</span>Creating Docker and Binder for your notebook repository</a></span></li></ul></li><li><span><a href=\"#References\" data-toc-modified-id=\"References-6\"><span class=\"toc-item-num\">6&nbsp;&nbsp;</span>References</a></span></li></ul></div>"
   ]
  },
  {
   "cell_type": "markdown",
   "metadata": {},
   "source": [
    "## Collaboration\n",
    "At the beginning of this project, we created a what's app group chat as the main communication medium. Sometimes we also held zoom meetings to discuss about the course materials and work together on our group project. Before the submission, the frequency of meetins was high (1-2 times a day). All group members were very engaged without absents. We all function as group leaders and group members. For assignment2, we divide up our tasks:\n",
    "- Create and modify Jupyter notebook template. Enrich contents for each section and write reports. (Tong & Anant)\n",
    "- Data searching, filtering and cleaning. (Thomas)\n",
    "- Create data dictionary. (Jingwen)\n",
    "- Create normalized tables. (Mataikya)\n",
    "\n",
    "## Purpose\n",
    "Housing affordability and costs have been a major trend in Canada over the past several years.\n",
    "We want to examine house prices in Canada and explore household incomes on housing investment.\n",
    "By analyzing those datasets we want to furture explore housing affordability in Canada.\n",
    "\n",
    "\n",
    "\n",
    "## Methodology\n",
    "To do this work we obtained two datasets, one, Housing Prices dataset, is from Statistics Canada \n",
    "(WAN dataset: https://www150.statcan.gc.ca/t1/tbl1/en/tv.action?pid=1810020501#tables). \n",
    "It contains price index across Canada by province. The second dataset is Income Statistics, \n",
    "also from Statistics Canada (https://www150.statcan.gc.ca/t1/tbl1/en/tv.action?pid=1110019101#tables). \n",
    "These datasets both share an attribute, (time), that can be aggregated by year from Housing Prices dataset, and that is included in the Ref_Data column. In the Income statistics dataset, (time) is included in the () column. Both datasets are coded by date, so we can use these datasets together to evaluation how people's income affects the housing prices across Canada, and further analyze housing affordability in Canada.\n",
    "\n",
    "\n",
    "\n",
    "## Data Dictionary\n",
    "\n",
    "\n",
    "\n",
    "## Results\n",
    "Normalization of the database resulted in a set of (   ) tables, including tables for (   )\n",
    "...\n",
    "\n",
    "\n",
    "\n",
    "## Keywords\n",
    "\n",
    "keywords=[\"income\", \"housing prices\", \"real estate industry\", \"housing purchase behavior\", \"Price index\"]\n",
    "\n",
    "\n",
    "## Work In Progress - improvements\n",
    "Use this section only if the notebook is not final.\n",
    "\n",
    "Notable TODOs:\n",
    "- todo 1;\n",
    "- todo 2;\n",
    "- todo 3.\n",
    "\n",
    "Notable TODOs:\n",
    "- develop similar template for R, and possibly other languages [7];\n",
    "\n",
    "## Suggested next steps\n",
    "\n",
    "\n"
   ]
  },
  {
   "cell_type": "markdown",
   "metadata": {},
   "source": [
    "# Setup\n",
    "\n",
    "## Library import\n",
    "Import all the required Python libraries.\n",
    "\n",
    "The code cell below is an example.\n",
    "When submitting your notebook, make sure that all external libraries are included in the requirements or environment file and library versions are explictly defined.\n",
    "\n",
    "It is a good practice to organize the imported libraries by functionality, as shown below."
   ]
  },
  {
   "cell_type": "code",
   "execution_count": 10,
   "metadata": {},
   "outputs": [
    {
     "data": {
      "text/html": [
       "        <script type=\"text/javascript\">\n",
       "        window.PlotlyConfig = {MathJaxConfig: 'local'};\n",
       "        if (window.MathJax) {MathJax.Hub.Config({SVG: {font: \"STIX-Web\"}});}\n",
       "        if (typeof require !== 'undefined') {\n",
       "        require.undef(\"plotly\");\n",
       "        requirejs.config({\n",
       "            paths: {\n",
       "                'plotly': ['https://cdn.plot.ly/plotly-latest.min']\n",
       "            }\n",
       "        });\n",
       "        require(['plotly'], function(Plotly) {\n",
       "            window._Plotly = Plotly;\n",
       "        });\n",
       "        }\n",
       "        </script>\n",
       "        "
      ]
     },
     "metadata": {},
     "output_type": "display_data"
    }
   ],
   "source": [
    "# Data manipulation\n",
    "import pandas as pd\n",
    "import numpy as np\n",
    "\n",
    "# Options for pandas\n",
    "pd.options.display.max_columns = 50\n",
    "pd.options.display.max_rows = 30\n",
    "\n",
    "# Visualizations\n",
    "import plotly\n",
    "import plotly.graph_objs as go\n",
    "import plotly.offline as ply\n",
    "plotly.offline.init_notebook_mode(connected=True)\n",
    "\n",
    "# Autoreload extension\n",
    "if 'autoreload' not in get_ipython().extension_manager.loaded:\n",
    "    %load_ext autoreload\n",
    "    \n",
    "%autoreload 2"
   ]
  },
  {
   "cell_type": "markdown",
   "metadata": {},
   "source": [
    "## Local library import\n",
    "Import all the required local libraries.\n",
    "\n",
    "You can use the sample code below to reference location of these libraries.\n",
    "When packaging the notebook for submission to EarthCube, please include the libraries in a sub-directory. The local libraries should be well documented to ease reviewing."
   ]
  },
  {
   "cell_type": "code",
   "execution_count": 11,
   "metadata": {},
   "outputs": [],
   "source": [
    "# Include local library paths\n",
    "import sys\n",
    "# sys.path.append('path/to/local/lib') # uncomment and fill to import local libraries\n",
    "\n",
    "# Import local libraries"
   ]
  },
  {
   "cell_type": "markdown",
   "metadata": {},
   "source": [
    "# Parameter definitions\n",
    "Set all relevant parameters for the notebook. By convention, parameters are uppercase, while all the other variables follow Python's guidelines."
   ]
  },
  {
   "cell_type": "markdown",
   "metadata": {},
   "source": [
    "\n",
    "# Data import\n",
    "Retrieve all the required data for the analysis. Include brief data descriptions, and DOIs where possible.\n",
    "\n",
    "Please import data in one of two ways:\n",
    "1. Reference data that is available online and continuously managed (preferred). \n",
    "2. If the data is relatively small, please include the files along with the notebook. If you deal with large data, include a subset."
   ]
  },
  {
   "cell_type": "markdown",
   "metadata": {},
   "source": [
    "# Data processing and analysis\n",
    "The core of the notebook is here. Split this section into subsections as required, and explain processing and analysis steps.\n",
    "\n",
    "Selected best practices for organizing and formatting your notebooks are included below. "
   ]
  },
  {
   "cell_type": "markdown",
   "metadata": {},
   "source": [
    "\n",
    "\n",
    "## The 10 rules\n",
    "These recommendations are based on [6]\n",
    "\n",
    "1. Tell a story for an audience: interleave explanatory text with code and results to create a computational narrative.\n",
    "\n",
    "2. Document the process, not just the results: so that others, and yourself later, will understand your reasoning and choices.\n",
    "\n",
    "3. Use cell divisions to make steps clear: have eaach cell perform one meaningful and documented step, avoid long cells.\n",
    "\n",
    "4. Modularize code: use and document functions for repeated operations to make the code more readable and save space.\n",
    "\n",
    "5. Record dependencies: use pip or Conda package manager, with environment.yml (Conda) or requirements.txt (pip). Please indicate package versions explicitly. Ideally, include a listing of dependencies at the bottom of the notebook. Make sure you test your notebook in an environment created from these dependencies, so that you don't add undocumened dependencies.\n",
    "\n",
    "6. Use version control: https://github.com/jupyter/nbdime is a diffing tool specifically designed for notebooks; you may find it useful.\n",
    "\n",
    "7. Build a pipeline: place key variable declarations at the top. Test with different parameters, clean up, and run all cells to prepare for potential non-interactive execution.\n",
    "\n",
    "8. Share and explain your data: if the original data are too big, inlude a sample. Make sure that the data is accessible. Include data description, and any processing done beforehand. Ideally, point to datasets that have been permanently managed and identified by DOIs.\n",
    "\n",
    "9. Design your notebooks to be read, run, and explored:  \n",
    "    9.1. Read: store it in a public code repository with a clear README file and a liberal open source license. Generate HTML/PDF versions of the final notebook.  \n",
    "    9.2. Run: use Binder to run it in the cloud, and/or create a Docker image.  \n",
    "    9.3. Explore: use interactive widgets (e.g., ipywidgets, or panel) \n",
    "    \n",
    "10. Advocate for open research: ask your colleagues or friends to try to run your notebooks.\n",
    "\n",
    "\n",
    "__Additional recommendations, beyond the 10 rules:__\n",
    "1. Do not include shell commands in cells (unless the notebook will be distributed in Docker container.)\n",
    "2. Keep cell output if other researchers will use the included data, or clear cell output if they will use their own data.\n",
    "3. Develop your code in a clean virtual environment, to avoid dependency conflicts and streamline packaging.\n",
    "\n",
    "To create a virtual environment, use\n",
    "```\n",
    "conda create -n <enviroment_name> python=3 jupyter -y\n",
    "```\n",
    "or\n",
    "```\n",
    "python3 -m venv /path/to/new/virtual/environment\n",
    "```\n",
    "and then activate it.\n",
    "\n",
    "For additional useful guides see [1], [2], [3], [4]\n"
   ]
  },
  {
   "cell_type": "markdown",
   "metadata": {},
   "source": [
    "## Using notebook template\n",
    "\n",
    "You can automatically load this notebook template, with sections and headings preset for you. \n",
    "\n",
    "The key steps are:\n",
    "1. In terminal, install jupytemplate by running:\n",
    "```\n",
    "pip install jupytemplate\n",
    "```\n",
    "\n",
    "2. Then, enable the extension in your local Jupyter instance:\n",
    "```\n",
    "jupyter nbextension install --py jupytemplate --sys-prefix\n",
    "jupyter nbextension enable jupytemplate/main --sys-prefix\n",
    "```\n",
    "\n",
    "You will see a \"Nbextensions\" tab in Jupyter's tree view. In it, you can enable/disable the Template extension. If enabled, a new notebook will start from a preset template.\n",
    "\n",
    "\n",
    "See [5] for more information.\n"
   ]
  },
  {
   "cell_type": "code",
   "execution_count": 12,
   "metadata": {},
   "outputs": [
    {
     "name": "stdout",
     "output_type": "stream",
     "text": [
      "C:\\Users\\izaslavsky\\Anaconda3\\envs\\suave_prep\\lib\\site-packages\\jupytemplate\\jupytemplate\\template.ipynb\n"
     ]
    }
   ],
   "source": [
    "# To install this custom EarthCube template, run the following to find the template location\n",
    "\n",
    "import jupytemplate\n",
    "print(jupytemplate.get_template_path())\n",
    "\n"
   ]
  },
  {
   "cell_type": "markdown",
   "metadata": {},
   "source": [
    "Then replace the default template.ipynb with this notebook or with the short version (just headings and brief explanations).\n",
    "\n",
    "Both the long and the short versions can be found at earthcube github.\n",
    "\n",
    "\n",
    "To make the changes effective after replacing the template and renaming it to template.ipynb, run in terminal:\n",
    "```\n",
    "jupyter nbextension install --py jupytemplate --sys-prefix\n",
    "jupyter nbextension enable jupytemplate/main --sys-prefix\n",
    "```"
   ]
  },
  {
   "cell_type": "markdown",
   "metadata": {},
   "source": [
    "## Adding table of contents\n",
    "\n",
    "Having a table of contents below the title and authors will make your notebook look more professional, and will help users navigate it.\n",
    "\n",
    "The key steps are:\n",
    "1. In terminal, install jupyter_contrib_nbextensions\n",
    "```\n",
    "pip install --user jupyter_contrib_nbextensions\n",
    "jupyter contrib nbextension install --user\n",
    "```\n",
    "\n",
    "2. Then, enable the Table of Contents extension:\n",
    "```\n",
    "jupyter nbextension enable toc2/main\n",
    "```\n",
    "\n",
    "You will see a new icon \"Table of Contents\" added to the row of icons. It will toggle the ToC view. Click the Gear icon on the ToC panel to add a ToC cell to your notebook.\n",
    "\n",
    "See [5.1], [5.2] for more information\n"
   ]
  },
  {
   "cell_type": "markdown",
   "metadata": {},
   "source": [
    "## Creating Docker and Binder for your notebook repository\n",
    "\n",
    "Sharing just the Jupyter notebook .ipynb file is not sufficient for broad re-usability. We request that Jupyter notebooks are submitted to EarthCube in Binders. The Binder service is a free service that allows anyone to run notebooks from their web browser without installing any software and resolving dependencies. \n",
    "\n",
    "Follow these steps:\n",
    "1. Assemble the Jupyter notebooks , environment files, custom external libraries, datasets, and a README, in a single project directory (and sub-directories off of it, as needed). Use GitHub to organize your project as a GitHub repository.\n",
    "\n",
    "2. Optionally, test your project with repo2docker. See instructions in [2]. This will create a docker image which can be made available in a Docker repository. \n",
    "\n",
    "3. Create Binder. Use mybinder.org to create a URL for your notebook Binder (you will need to enter your GitHub repo URL). You can also add a Launch Binder button directly to your GitHub repo, by include the following in your README.md:\n",
    "```\n",
    "launch with myBinder\n",
    "[![Binder](https://mybinder.org/badge.svg)](https://mybinder.org/v2/gh/<path to your repo>)\n",
    "```\n",
    "\n",
    "Specific projects may have their own Binder implementations. In this case, include a project-specific Binder reference so that reviewers can execure your code.\n",
    "\n",
    "Expect the reviewers to use a browser of their choice to run your code, and avoid execution environments that have any special requirements that reviewers may not have (for example, Google colab requires a Google account, which reviewers may not have).\n"
   ]
  },
  {
   "cell_type": "markdown",
   "metadata": {},
   "source": [
    "# References\n",
    "List relevant references.\n",
    "\n",
    "1. Notebook sharing guidelines from reproducible-science-curriculum: https://reproducible-science-curriculum.github.io/publication-RR-Jupyter/\n",
    "2. Guide for developing shareable notebooks by Kevin Coakley, SDSC: https://github.com/kevincoakley/sharing-jupyter-notebooks/raw/master/Jupyter-Notebooks-Sharing-Recommendations.pdf\n",
    "3. Guide for sharing notebooks by Andrea Zonca, SDSC: https://zonca.dev/2020/09/how-to-share-jupyter-notebooks.html\n",
    "4. Jupyter Notebook Best Practices: https://towardsdatascience.com/jupyter-notebook-best-practices-f430a6ba8c69\n",
    "5. Introduction to Jupyter templates nbextension: https://towardsdatascience.com/stop-copy-pasting-notebooks-embrace-jupyter-templates-6bd7b6c00b94  \n",
    "    5.1. Table of Contents (Toc2) readthedocs: https://jupyter-contrib-nbextensions.readthedocs.io/en/latest/nbextensions/toc2/README.html  \n",
    "    5.2. Steps to install toc2: https://stackoverflow.com/questions/23435723/installing-ipython-notebook-table-of-contents\n",
    "6. Rule A, Birmingham A, Zuniga C, Altintas I, Huang SC, et al. (2019) Ten simple rules for writing and sharing computational analyses in Jupyter Notebooks. PLOS Computational Biology 15(7): e1007007. https://doi.org/10.1371/journal.pcbi.1007007. Supplementary materials: example notebooks (https://github.com/jupyter-guide/ten-rules-jupyter) and tutorial (https://github.com/ISMB-ECCB-2019-Tutorial-AM4/reproducible-computational-workflows)\n",
    "7. Languages supported by Jupyter kernels: https://github.com/jupyter/jupyter/wiki/Jupyter-kernels\n",
    "8. EarthCube notebooks presented at EC Annual Meeting 2020: https://www.earthcube.org/notebooks\n"
   ]
  },
  {
   "cell_type": "code",
   "execution_count": null,
   "metadata": {},
   "outputs": [],
   "source": []
  }
 ],
 "metadata": {
  "kernelspec": {
   "display_name": "Python 3 (ipykernel)",
   "language": "python",
   "name": "python3"
  },
  "language_info": {
   "codemirror_mode": {
    "name": "ipython",
    "version": 3
   },
   "file_extension": ".py",
   "mimetype": "text/x-python",
   "name": "python",
   "nbconvert_exporter": "python",
   "pygments_lexer": "ipython3",
   "version": "3.9.7"
  },
  "toc": {
   "base_numbering": 1,
   "nav_menu": {},
   "number_sections": true,
   "sideBar": true,
   "skip_h1_title": false,
   "title_cell": "Table of Contents",
   "title_sidebar": "Contents",
   "toc_cell": true,
   "toc_position": {
    "height": "calc(100% - 180px)",
    "left": "10px",
    "top": "150px",
    "width": "248.182px"
   },
   "toc_section_display": true,
   "toc_window_display": true
  }
 },
 "nbformat": 4,
 "nbformat_minor": 4
}
